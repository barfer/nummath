{
  "nbformat": 4,
  "nbformat_minor": 0,
  "metadata": {
    "colab": {
      "provenance": []
    },
    "kernelspec": {
      "name": "python3",
      "display_name": "Python 3"
    },
    "language_info": {
      "name": "python"
    }
  },
  "cells": [
    {
      "cell_type": "markdown",
      "source": [
        "## Környezet beallítása"
      ],
      "metadata": {
        "id": "oaOqc_f43rra"
      }
    },
    {
      "cell_type": "code",
      "source": [
        "import numpy as np\n",
        "import math\n",
        "import matplotlib.pyplot as plt\n",
        "import sys"
      ],
      "metadata": {
        "id": "x1rKfBGR3tj3"
      },
      "execution_count": null,
      "outputs": []
    },
    {
      "cell_type": "markdown",
      "source": [
        "### Magasabb pontosságú számítások"
      ],
      "metadata": {
        "id": "77D_rsHkW_s1"
      }
    },
    {
      "cell_type": "code",
      "source": [
        "from mpmath import *\n",
        "mp.prec = 53"
      ],
      "metadata": {
        "id": "RJ2L8fIFWxXb"
      },
      "execution_count": null,
      "outputs": []
    },
    {
      "cell_type": "markdown",
      "source": [
        "### Kerekítési módok"
      ],
      "metadata": {
        "id": "IT7XqLw-xDMG"
      }
    },
    {
      "cell_type": "code",
      "source": [
        "import ctypes\n",
        "FE_TONEAREST = 0x0000\n",
        "FE_DOWNWARD = 0x0400\n",
        "FE_UPWARD = 0x0800\n",
        "FE_TOWARDZERO = 0x0c00\n",
        "libm = ctypes.CDLL('libm.so.6')"
      ],
      "metadata": {
        "id": "TkuOtLUmxFUQ"
      },
      "execution_count": null,
      "outputs": []
    },
    {
      "cell_type": "code",
      "source": [
        "libm.fesetround(FE_TONEAREST)"
      ],
      "metadata": {
        "id": "tBD0mRSBxusb"
      },
      "execution_count": null,
      "outputs": []
    },
    {
      "cell_type": "markdown",
      "source": [
        "### Intervallumok"
      ],
      "metadata": {
        "id": "L5GIa1qTW2md"
      }
    },
    {
      "cell_type": "code",
      "source": [
        "!pip install pyinterval"
      ],
      "metadata": {
        "id": "urxdHhx62_Uq"
      },
      "execution_count": null,
      "outputs": []
    },
    {
      "cell_type": "code",
      "source": [
        "from interval import interval, inf, imath"
      ],
      "metadata": {
        "id": "Y5ALOWk9Wo2V"
      },
      "execution_count": null,
      "outputs": []
    },
    {
      "cell_type": "markdown",
      "source": [
        "## Adjunk össze"
      ],
      "metadata": {
        "id": "B_BLx8s1zY8W"
      }
    },
    {
      "cell_type": "markdown",
      "source": [
        "### Ahol a lebegőpontos (double) számok már csak egész értéket vesznek fel"
      ],
      "metadata": {
        "id": "t4hqgHp3Vfz_"
      }
    },
    {
      "cell_type": "code",
      "source": [
        "2 ** 52"
      ],
      "metadata": {
        "id": "3AY4L0J5VmRn"
      },
      "execution_count": null,
      "outputs": []
    },
    {
      "cell_type": "code",
      "source": [
        "2 ** 52 + 0.5"
      ],
      "metadata": {
        "id": "e9Oyf6UpVnlw"
      },
      "execution_count": null,
      "outputs": []
    },
    {
      "cell_type": "code",
      "source": [
        "2 ** 52 + 1.0"
      ],
      "metadata": {
        "id": "8V0KyKn_VqH5"
      },
      "execution_count": null,
      "outputs": []
    },
    {
      "cell_type": "code",
      "source": [
        "2 ** 52 + 1.5"
      ],
      "metadata": {
        "id": "X-5B3o18VtOt"
      },
      "execution_count": null,
      "outputs": []
    },
    {
      "cell_type": "markdown",
      "source": [
        "itt láthatjuk a \"nearest (even)\" kerekítést akcióban"
      ],
      "metadata": {
        "id": "MeT-SnoqVwYm"
      }
    },
    {
      "cell_type": "markdown",
      "source": [
        "### Egy ciklus"
      ],
      "metadata": {
        "id": "_ZwmLU6Z1bug"
      }
    },
    {
      "cell_type": "markdown",
      "source": [
        "$\\sum_{i=1}^{100000} \\frac{1}{i^2}$"
      ],
      "metadata": {
        "id": "TkuAJi8LSjvr"
      }
    },
    {
      "cell_type": "code",
      "source": [
        "s = 0\n",
        "i = 1\n",
        "while i <= 100000:\n",
        "  s = s + 1. / i ** 2\n",
        "  i = i + 1\n",
        "print(s)"
      ],
      "metadata": {
        "id": "XjKEpbOZA_VF"
      },
      "execution_count": null,
      "outputs": []
    },
    {
      "cell_type": "code",
      "source": [
        "s = 0\n",
        "i = 100000\n",
        "while i > 0:\n",
        "  s = s + 1. / i ** 2\n",
        "  i = i - 1\n",
        "print(s)"
      ],
      "metadata": {
        "id": "95T16pH42j1U"
      },
      "execution_count": null,
      "outputs": []
    },
    {
      "cell_type": "code",
      "source": [
        "2 ** (-52)"
      ],
      "metadata": {
        "id": "n_A8I9n3NqZ7"
      },
      "execution_count": null,
      "outputs": []
    },
    {
      "cell_type": "markdown",
      "source": [
        "gépi epszilon (double): $ɛ_m = 2^{-52}$"
      ],
      "metadata": {
        "id": "voOTZUbIWCX9"
      }
    },
    {
      "cell_type": "code",
      "source": [
        "sys.float_info.epsilon"
      ],
      "metadata": {
        "id": "YJQL_jz6WAHd"
      },
      "execution_count": null,
      "outputs": []
    },
    {
      "cell_type": "markdown",
      "source": [
        "### Van ennek vége?"
      ],
      "metadata": {
        "id": "xRYu5rRI1jHs"
      }
    },
    {
      "cell_type": "code",
      "source": [
        "s = 0\n",
        "i = 1\n",
        "ns = 1. / (i**2)\n",
        "while s < ns:\n",
        "  i = i + 1\n",
        "  s = ns\n",
        "  ns = ns + 1. / (i**2)\n",
        "  if i % 10000000 == 0:\n",
        "    print(i / 10000000, s)\n",
        "print(i, ns)"
      ],
      "metadata": {
        "id": "FBlblrOqyhN5"
      },
      "execution_count": null,
      "outputs": []
    },
    {
      "cell_type": "code",
      "source": [
        "1 / (94906265 ** 2)"
      ],
      "metadata": {
        "id": "SxAT2wE6ylK6"
      },
      "execution_count": null,
      "outputs": []
    },
    {
      "cell_type": "code",
      "source": [
        "2 ** (-52)"
      ],
      "metadata": {
        "id": "Jt45zlcjdPnu"
      },
      "execution_count": null,
      "outputs": []
    },
    {
      "cell_type": "code",
      "source": [
        "s = 0\n",
        "i = 100000000\n",
        "ns = 1. / (i**2)\n",
        "while (s < ns) and (i > 1):\n",
        "  i = i - 1\n",
        "  s = ns\n",
        "  ns = ns + 1. / (i**2)\n",
        "  if i % 10000000 == 0:\n",
        "    print(i / 10000000, s)\n",
        "print(i, ns)"
      ],
      "metadata": {
        "id": "jlg5_KDfyoBl"
      },
      "execution_count": null,
      "outputs": []
    },
    {
      "cell_type": "markdown",
      "source": [
        "Láthatjuk, hogy növekvő sorrendben összeadva a számokat tovább is el tudunk jutni"
      ],
      "metadata": {
        "id": "iw0ar6VZXlz2"
      }
    },
    {
      "cell_type": "markdown",
      "source": [
        "Az analitikus válasz egyébként $\\frac{\\pi^2}{6}$"
      ],
      "metadata": {
        "id": "G5N_mW3aXwtH"
      }
    },
    {
      "cell_type": "code",
      "source": [
        "from sympy import *\n",
        "N(pi*pi/6)"
      ],
      "metadata": {
        "id": "SxtUx0Lrys_L"
      },
      "execution_count": null,
      "outputs": []
    },
    {
      "cell_type": "markdown",
      "source": [
        "a félreértés elkerülése végett a fentebb kiírt szám is egy közelítése a $\\frac{\\pi^2}{6}$ irracionális valós számnak"
      ],
      "metadata": {
        "id": "nv1x_CzNX-1d"
      }
    },
    {
      "cell_type": "markdown",
      "source": [
        "## Ábrázoljunk függvényeket!"
      ],
      "metadata": {
        "id": "J1XHsczs3k8P"
      }
    },
    {
      "cell_type": "markdown",
      "source": [
        "### Egy polinom"
      ],
      "metadata": {
        "id": "cg-otDTy36ty"
      }
    },
    {
      "cell_type": "code",
      "source": [
        "t = np.linspace(0.995, 1.005, 100)"
      ],
      "metadata": {
        "id": "OddQ2Mm94Aos"
      },
      "execution_count": null,
      "outputs": []
    },
    {
      "cell_type": "markdown",
      "source": [
        "$f(x) = t^6 - 6t^5 + 15t^4 - 20y^3 + 15t^2 - 6t + 1$ -et ábrázoljuk a $[0.995, 1.005]$ intervallumon"
      ],
      "metadata": {
        "id": "gwXcFzuRbtCy"
      }
    },
    {
      "cell_type": "code",
      "source": [
        "fgv = t ** 6 - 6 * t ** 5 + 15 * t ** 4 - 20 * t ** 3 + 15 * t ** 2 - 6 * t + 1"
      ],
      "metadata": {
        "id": "dQKW9Z3f4D48"
      },
      "execution_count": null,
      "outputs": []
    },
    {
      "cell_type": "code",
      "source": [
        "plt.plot(t, fgv, 'r')\n",
        "fig = plt.gcf()\n",
        "fig.set_size_inches(18.5, 10.5)"
      ],
      "metadata": {
        "id": "B8nsqaPm4HYF"
      },
      "execution_count": null,
      "outputs": []
    },
    {
      "cell_type": "markdown",
      "source": [
        "### Ugyanaz a polinom"
      ],
      "metadata": {
        "id": "Yd5Jn2uC4WoC"
      }
    },
    {
      "cell_type": "markdown",
      "source": [
        "Ez amúgy nem volt más mint $(t-1)^6$"
      ],
      "metadata": {
        "id": "010QpXtq4YuO"
      }
    },
    {
      "cell_type": "code",
      "source": [
        "fgv = t ** 6 - 6 * t ** 5 + 15 * t ** 4 - 20 * t ** 3 + 15 * t ** 2 - 6 * t + 1\n",
        "fgv2 = (t - 1) ** 6"
      ],
      "metadata": {
        "id": "M1SYxKvAvptm"
      },
      "execution_count": null,
      "outputs": []
    },
    {
      "cell_type": "code",
      "source": [
        "plt.plot(t, fgv, 'r')\n",
        "plt.plot(t, fgv2, 'b')\n",
        "fig = plt.gcf()\n",
        "fig.set_size_inches(18.5, 10.5)"
      ],
      "metadata": {
        "id": "7ovxc6vtwBN6"
      },
      "execution_count": null,
      "outputs": []
    },
    {
      "cell_type": "markdown",
      "source": [
        "### Horner séma esetleg?"
      ],
      "metadata": {
        "id": "7ZKnm9iN43BS"
      }
    },
    {
      "cell_type": "code",
      "source": [
        "fgv = t ** 6 - 6 * t ** 5 + 15 * t ** 4 - 20 * t ** 3 + 15 * t ** 2 - 6 * t + 1\n",
        "fgv2 = (t - 1) ** 6\n",
        "fgv3 = t * (t * (t * (t * (t * (t - 6) + 15) -20) + 15) - 6) + 1"
      ],
      "metadata": {
        "id": "GDcupwHV4vWs"
      },
      "execution_count": null,
      "outputs": []
    },
    {
      "cell_type": "code",
      "source": [
        "plt.plot(t, fgv, 'r')\n",
        "plt.plot(t, fgv2, 'b')\n",
        "plt.plot(t, fgv3, 'y')\n",
        "fig = plt.gcf()\n",
        "fig.set_size_inches(18.5, 10.5)"
      ],
      "metadata": {
        "id": "xSQU7dJ14yzh"
      },
      "execution_count": null,
      "outputs": []
    },
    {
      "cell_type": "markdown",
      "source": [
        "### Változtassuk a lebegőpontos számok kerekítési módját"
      ],
      "metadata": {
        "id": "-ydRzvtex5tP"
      }
    },
    {
      "cell_type": "code",
      "source": [
        "modes = [['Round to Nearest', FE_TONEAREST], ['Round Down', FE_DOWNWARD], ['Round Up', FE_UPWARD], ['Round to Zero', FE_TOWARDZERO]]"
      ],
      "metadata": {
        "id": "c6YzePalwEvv"
      },
      "execution_count": null,
      "outputs": []
    },
    {
      "cell_type": "code",
      "source": [
        "fig, axs = plt.subplots(2, 2)\n",
        "for idx, mode in enumerate(modes):\n",
        "\n",
        "  libm.fesetround(mode[1])\n",
        "\n",
        "  fgv = t ** 6 - 6 * t ** 5 + 15 * t ** 4 - 20 * t ** 3 + 15 * t ** 2 - 6 * t + 1\n",
        "  fgv2 = (t - 1) ** 6\n",
        "  fgv3 = t * (t * (t * (t * (t * (t - 6) + 15) -20) + 15) - 6) + 1\n",
        "\n",
        "  row = idx % 2\n",
        "  col = idx // 2\n",
        "\n",
        "  axs[row, col].plot(t, fgv, 'r')\n",
        "  axs[row, col].plot(t, fgv2, 'b')\n",
        "  axs[row, col].plot(t, fgv3, 'y')\n",
        "  axs[row, col].set_title(mode[0])\n",
        "\n",
        "fig.set_size_inches(18.5, 10.5)\n",
        "\n",
        "libm.fesetround(FE_TONEAREST)"
      ],
      "metadata": {
        "id": "115Hzmu5yFU8"
      },
      "execution_count": null,
      "outputs": []
    },
    {
      "cell_type": "markdown",
      "source": [
        "## Mennyi az annyi?"
      ],
      "metadata": {
        "id": "eVy8aS9l5zCL"
      }
    },
    {
      "cell_type": "markdown",
      "source": [
        "$f(x, y) = 333.75 y^6 + x^2 (11 x^2 y^2 - y^6 - 121 y^4 - 2) + 5.5 y^8 + \\frac{x}{2y}$"
      ],
      "metadata": {
        "id": "Uq2BHv94OQnk"
      }
    },
    {
      "cell_type": "code",
      "source": [
        "def f(x, y):\n",
        "  return 333.75 * y ** 6 + x ** 2 * (11 * x ** 2 * y ** 2 - y ** 6 - 121 * y ** 4 - 2) + 5.5 * y ** 8 + x / (2 * y)"
      ],
      "metadata": {
        "id": "ej2Gd8K152Ma"
      },
      "execution_count": null,
      "outputs": []
    },
    {
      "cell_type": "code",
      "source": [
        "f(77617, 33096)"
      ],
      "metadata": {
        "id": "knns984h57C_"
      },
      "execution_count": null,
      "outputs": []
    },
    {
      "cell_type": "code",
      "source": [
        "print(mp)"
      ],
      "metadata": {
        "id": "VyGJ2LRv57ne"
      },
      "execution_count": null,
      "outputs": []
    },
    {
      "cell_type": "code",
      "source": [
        "def fmp(x, y):\n",
        " return mpf(333.75) * mpf(y) ** mpf(6) + mpf(x) ** mpf(2) * (mpf(11) * mpf(x) ** mpf(2) * mpf(y) ** mpf(2) - mpf(y) ** mpf(6) - mpf(121) * mpf(y) ** mpf(4) - mpf(2)) + mpf(5.5) * mpf(y) ** mpf(8) + mpf(x) / (mpf(2) * mpf(y))"
      ],
      "metadata": {
        "id": "kZviP4in5-b6"
      },
      "execution_count": null,
      "outputs": []
    },
    {
      "cell_type": "markdown",
      "source": [
        "Itt már változik a függvény kiszámított értéke, pedig nagyságrendileg ugyanaz a pontosság az alapbeállítása az mpmath könyvtárnak mint a sima double lebegőpontos számoknak"
      ],
      "metadata": {
        "id": "s9kEXOmAw6yC"
      }
    },
    {
      "cell_type": "code",
      "source": [
        "fmp(77617, 33096)"
      ],
      "metadata": {
        "id": "T4hxN9a46HnF"
      },
      "execution_count": null,
      "outputs": []
    },
    {
      "cell_type": "markdown",
      "source": [
        "Ötlet: növeljük a precizitást amíg nem stabilizálódik az eredmény. Elméletileg minden kifejezésre van ilyen precizitás ahonnan mindig a helyes eredmény közelébe érünk"
      ],
      "metadata": {
        "id": "vL2R6nhKxgFO"
      }
    },
    {
      "cell_type": "code",
      "source": [
        "for p in range(3, 121):\n",
        "  mp.prec = p\n",
        "  print(p, \" bit, \", mp.dps, \" digits, \", fmp(77617, 33096))"
      ],
      "metadata": {
        "id": "85a8MMCF6KHZ"
      },
      "execution_count": null,
      "outputs": []
    },
    {
      "cell_type": "markdown",
      "source": [
        "Stabilizálódik az 1.172..., már 120 bitet használunk ami ~ kétszer olyan pontos mint a standard 64 bites lebegőpontos szám"
      ],
      "metadata": {
        "id": "ckjRhZ1pxiOP"
      }
    },
    {
      "cell_type": "markdown",
      "source": [
        "De ha tovább megyünk..."
      ],
      "metadata": {
        "id": "HwMFEzRwxsXC"
      }
    },
    {
      "cell_type": "code",
      "source": [
        "for p in range(121, 180):\n",
        "  mp.prec = p\n",
        "  print(p, \" bit, \", mp.dps, \" digits, \", fmp(77617, 33096))"
      ],
      "metadata": {
        "id": "_ZVIm32m6P2D"
      },
      "execution_count": null,
      "outputs": []
    },
    {
      "cell_type": "markdown",
      "source": [
        "Ez amúgy már a helyes eredmény. Nem lehet tudni előre hol kellene megállni, bármikor előfordulhat, hogy \"hosszan\" stabilizálódik a számítás."
      ],
      "metadata": {
        "id": "ajfKrGx4xwpX"
      }
    },
    {
      "cell_type": "markdown",
      "source": [
        "Szétbonthatjuk ezt a kifejezést a polinomiális részben pozitív és negatív tagokra illetve a tört tagra a legvégén"
      ],
      "metadata": {
        "id": "1H1wE723YyRO"
      }
    },
    {
      "cell_type": "code",
      "source": [
        "def f1(x, y):\n",
        "  return [mpf(333.75) * mpf(y) ** mpf(6) + mpf(x) ** mpf(2) * (mpf(11) * mpf(x) ** mpf(2) * mpf(y) ** mpf(2)) + mpf(5.5) * mpf(y) ** mpf(8), mpf(x) ** mpf(2) * (- mpf(y) ** mpf(6) - mpf(121) * mpf(y) ** mpf(4) - mpf(2)), mpf(x) / (mpf(2) * mpf(y))]"
      ],
      "metadata": {
        "id": "h91NW3O-YxkA"
      },
      "execution_count": null,
      "outputs": []
    },
    {
      "cell_type": "code",
      "source": [
        "f1(77617, 33096)"
      ],
      "metadata": {
        "id": "9SfRlZ_oY9n1"
      },
      "execution_count": null,
      "outputs": []
    },
    {
      "cell_type": "markdown",
      "source": [
        "Látjuk, hogy igazából két óriási egész számot vonunk ki egymásból, mely kivonás eredménye $-2$, majd ehhez adjuk hozzá a törtet ($\\sim ~ ~ + 1.726$)\n",
        "\n",
        "A probléma gyökere, hogy a két egész szám relatíve közel van egymáshoz és nem is nagyon kicsi számok. Erről a feladatról belátható, hogy instabil / inkorrekt. Továbbá, a feladatot elrejtettük, így kerekítésekre kötelezzük a számítógépet, ez pedig -  magának a feladatnak az instabilitása miatt - pontatlan eredményhez vezet."
      ],
      "metadata": {
        "id": "CunuIzXDZGOr"
      }
    },
    {
      "cell_type": "markdown",
      "source": [
        "## Intervallum Aritmetika: lehetőség matematikai tételek numerikus bizonyítására"
      ],
      "metadata": {
        "id": "lsKRxJCl3CPq"
      }
    },
    {
      "cell_type": "code",
      "source": [
        "interval[0]"
      ],
      "metadata": {
        "id": "1HLuwL0v2WRL"
      },
      "execution_count": null,
      "outputs": []
    },
    {
      "cell_type": "code",
      "source": [
        "interval[1, 2] + interval[3, 4]"
      ],
      "metadata": {
        "id": "WNBgNsYv3EnJ"
      },
      "execution_count": null,
      "outputs": []
    },
    {
      "cell_type": "code",
      "source": [
        "interval[1, 2] * interval[3, 4]"
      ],
      "metadata": {
        "id": "47lgittz3IWw"
      },
      "execution_count": null,
      "outputs": []
    },
    {
      "cell_type": "code",
      "source": [
        "interval[1, 2] / interval[3, 4]"
      ],
      "metadata": {
        "id": "AIlQgX2G3K-Z"
      },
      "execution_count": null,
      "outputs": []
    },
    {
      "cell_type": "code",
      "source": [
        "interval[1, 2] / interval[-1, 4]"
      ],
      "metadata": {
        "id": "zHvRSB5X3NG_"
      },
      "execution_count": null,
      "outputs": []
    },
    {
      "cell_type": "markdown",
      "source": [
        "Halmazértékű számolásoknál fokozottan fontos a függvény alakja: $x \\cdot x \\neq x^2$"
      ],
      "metadata": {
        "id": "s74glufkydW7"
      }
    },
    {
      "cell_type": "code",
      "source": [
        "def square1(x):\n",
        "  return x * x\n",
        "\n",
        "square1(interval[-1, 1])"
      ],
      "metadata": {
        "id": "wfIYal443YrX"
      },
      "execution_count": null,
      "outputs": []
    },
    {
      "cell_type": "code",
      "source": [
        "def square2(x):\n",
        "  return x ** 2\n",
        "\n",
        "square2(interval[-1, 1])"
      ],
      "metadata": {
        "id": "b3cF7Mt44BpT"
      },
      "execution_count": null,
      "outputs": []
    },
    {
      "cell_type": "markdown",
      "source": [
        "Sorösszegek újra, ezúttal megbízható számítással, a számított eredmény intervallumok (halmazok) teljes értékű matematikai bizonyítások a részösszeg felső és alsó korlátaira"
      ],
      "metadata": {
        "id": "YUf6j2avyqlV"
      }
    },
    {
      "cell_type": "code",
      "source": [
        "s = 0\n",
        "i = 1\n",
        "while i <= 100000:\n",
        "  s = s + 1. / (interval[i]**2)\n",
        "  i = i + 1\n",
        "print(s)"
      ],
      "metadata": {
        "id": "PZG0tZXQ112n"
      },
      "execution_count": null,
      "outputs": []
    },
    {
      "cell_type": "code",
      "source": [
        "s = 0\n",
        "i = 100000\n",
        "while i > 0 :\n",
        "  s = s + 1. / (interval[i]**2)\n",
        "  i = i - 1\n",
        "print(s)"
      ],
      "metadata": {
        "id": "OKc5QB-F2eJK"
      },
      "execution_count": null,
      "outputs": []
    }
  ]
}

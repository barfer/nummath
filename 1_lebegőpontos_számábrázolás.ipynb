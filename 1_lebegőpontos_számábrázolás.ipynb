"""1. Lebegőpontos számábrázolás


## Környezet beallítása
"""

import numpy as np
import math
import matplotlib.pyplot as plt
import sys

"""### Magasabb pontosságú számítások"""

from mpmath import *
mp.prec = 53

"""### Kerekítési módok"""

import ctypes
FE_TONEAREST = 0x0000
FE_DOWNWARD = 0x0400
FE_UPWARD = 0x0800
FE_TOWARDZERO = 0x0c00
libm = ctypes.CDLL('libm.so.6')

libm.fesetround(FE_TONEAREST)

"""### Intervallumok"""

!pip install pyinterval

from interval import interval, inf, imath

"""## Adjunk össze

### Ahol a lebegőpontos (double) számok már csak egész értéket vesznek fel
"""

2 ** 52

2 ** 52 + 0.5

2 ** 52 + 1.0

2 ** 52 + 1.5

"""itt láthatjuk a "nearest (even)" kerekítést akcióban

### Egy ciklus

$\sum_{i=1}^{100000} \frac{1}{i^2}$
"""

s = 0
i = 1
while i <= 100000:
  s = s + 1. / i ** 2
  i = i + 1
print(s)

s = 0
i = 100000
while i > 0:
  s = s + 1. / i ** 2
  i = i - 1
print(s)

2 ** (-52)

"""gépi epszilon (double): $ɛ_m = 2^{-52}$"""

sys.float_info.epsilon

"""### Van ennek vége?"""

s = 0
i = 1
ns = 1. / (i**2)
while s < ns:
  i = i + 1
  s = ns
  ns = ns + 1. / (i**2)
  if i % 10000000 == 0:
    print(i / 10000000, s)
print(i, ns)

1 / (94906265 ** 2)

2 ** (-52)

s = 0
i = 100000000
ns = 1. / (i**2)
while (s < ns) and (i > 1):
  i = i - 1
  s = ns
  ns = ns + 1. / (i**2)
  if i % 10000000 == 0:
    print(i / 10000000, s)
print(i, ns)

"""Láthatjuk, hogy növekvő sorrendben összeadva a számokat tovább is el tudunk jutni

Az analitikus válasz egyébként $\frac{\pi^2}{6}$
"""

from sympy import *
N(pi*pi/6)

"""a félreértés elkerülése végett a fentebb kiírt szám is egy közelítése a $\frac{\pi^2}{6}$ irracionális valós számnak

## Ábrázoljunk függvényeket!

### Egy polinom
"""

t = np.linspace(0.995, 1.005, 100)

"""$f(x) = t^6 - 6t^5 + 15t^4 - 20y^3 + 15t^2 - 6t + 1$ -et ábrázoljuk a $[0.995, 1.005]$ intervallumon"""

fgv = t ** 6 - 6 * t ** 5 + 15 * t ** 4 - 20 * t ** 3 + 15 * t ** 2 - 6 * t + 1

plt.plot(t, fgv, 'r')
fig = plt.gcf()
fig.set_size_inches(18.5, 10.5)

"""### Ugyanaz a polinom

Ez amúgy nem volt más mint $(t-1)^6$
"""

fgv = t ** 6 - 6 * t ** 5 + 15 * t ** 4 - 20 * t ** 3 + 15 * t ** 2 - 6 * t + 1
fgv2 = (t - 1) ** 6

plt.plot(t, fgv, 'r')
plt.plot(t, fgv2, 'b')
fig = plt.gcf()
fig.set_size_inches(18.5, 10.5)

"""### Horner séma esetleg?"""

fgv = t ** 6 - 6 * t ** 5 + 15 * t ** 4 - 20 * t ** 3 + 15 * t ** 2 - 6 * t + 1
fgv2 = (t - 1) ** 6
fgv3 = t * (t * (t * (t * (t * (t - 6) + 15) -20) + 15) - 6) + 1

plt.plot(t, fgv, 'r')
plt.plot(t, fgv2, 'b')
plt.plot(t, fgv3, 'y')
fig = plt.gcf()
fig.set_size_inches(18.5, 10.5)

"""### Változtassuk a lebegőpontos számok kerekítési módját"""

modes = [['Round to Nearest', FE_TONEAREST], ['Round Down', FE_DOWNWARD], ['Round Up', FE_UPWARD], ['Round to Zero', FE_TOWARDZERO]]

fig, axs = plt.subplots(2, 2)
for idx, mode in enumerate(modes):

  libm.fesetround(mode[1])

  fgv = t ** 6 - 6 * t ** 5 + 15 * t ** 4 - 20 * t ** 3 + 15 * t ** 2 - 6 * t + 1
  fgv2 = (t - 1) ** 6
  fgv3 = t * (t * (t * (t * (t * (t - 6) + 15) -20) + 15) - 6) + 1

  row = idx % 2
  col = idx // 2

  axs[row, col].plot(t, fgv, 'r')
  axs[row, col].plot(t, fgv2, 'b')
  axs[row, col].plot(t, fgv3, 'y')
  axs[row, col].set_title(mode[0])

fig.set_size_inches(18.5, 10.5)

libm.fesetround(FE_TONEAREST)

"""## Mennyi az annyi?

$f(x, y) = 333.75 y^6 + x^2 (11 x^2 y^2 - y^6 - 121 y^4 - 2) + 5.5 y^8 + \frac{x}{2y}$
"""

def f(x, y):
  return 333.75 * y ** 6 + x ** 2 * (11 * x ** 2 * y ** 2 - y ** 6 - 121 * y ** 4 - 2) + 5.5 * y ** 8 + x / (2 * y)

f(77617, 33096)

print(mp)

def fmp(x, y):
 return mpf(333.75) * mpf(y) ** mpf(6) + mpf(x) ** mpf(2) * (mpf(11) * mpf(x) ** mpf(2) * mpf(y) ** mpf(2) - mpf(y) ** mpf(6) - mpf(121) * mpf(y) ** mpf(4) - mpf(2)) + mpf(5.5) * mpf(y) ** mpf(8) + mpf(x) / (mpf(2) * mpf(y))

"""Itt már változik a függvény kiszámított értéke, pedig nagyságrendileg ugyanaz a pontosság az alapbeállítása az mpmath könyvtárnak mint a sima double lebegőpontos számoknak"""

fmp(77617, 33096)

"""Ötlet: növeljük a precizitást amíg nem stabilizálódik az eredmény. Elméletileg minden kifejezésre van ilyen precizitás ahonnan mindig a helyes eredmény közelébe érünk"""

for p in range(3, 121):
  mp.prec = p
  print(p, " bit, ", mp.dps, " digits, ", fmp(77617, 33096))

"""Stabilizálódik az 1.172..., már 120 bitet használunk ami ~ kétszer olyan pontos mint a standard 64 bites lebegőpontos szám

De ha tovább megyünk...
"""

for p in range(121, 180):
  mp.prec = p
  print(p, " bit, ", mp.dps, " digits, ", fmp(77617, 33096))

"""Ez amúgy már a helyes eredmény. Nem lehet tudni előre hol kellene megállni, bármikor előfordulhat, hogy "hosszan" stabilizálódik a számítás.

Szétbonthatjuk ezt a kifejezést a polinomiális részben pozitív és negatív tagokra illetve a tört tagra a legvégén
"""

def f1(x, y):
  return [mpf(333.75) * mpf(y) ** mpf(6) + mpf(x) ** mpf(2) * (mpf(11) * mpf(x) ** mpf(2) * mpf(y) ** mpf(2)) + mpf(5.5) * mpf(y) ** mpf(8), mpf(x) ** mpf(2) * (- mpf(y) ** mpf(6) - mpf(121) * mpf(y) ** mpf(4) - mpf(2)), mpf(x) / (mpf(2) * mpf(y))]

f1(77617, 33096)

"""Látjuk, hogy igazából két óriási egész számot vonunk ki egymásból, mely kivonás eredménye $-2$, majd ehhez adjuk hozzá a törtet ($\sim ~ ~ + 1.726$)

A probléma gyökere, hogy a két egész szám relatíve közel van egymáshoz és nem is nagyon kicsi számok. Erről a feladatról belátható, hogy instabil / inkorrekt. Továbbá, a feladatot elrejtettük, így kerekítésekre kötelezzük a számítógépet, ez pedig -  magának a feladatnak az instabilitása miatt - pontatlan eredményhez vezet.

## Intervallum Aritmetika: lehetőség matematikai tételek numerikus bizonyítására
"""

interval[0]

interval[1, 2] + interval[3, 4]

interval[1, 2] * interval[3, 4]

interval[1, 2] / interval[3, 4]

interval[1, 2] / interval[-1, 4]

"""Halmazértékű számolásoknál fokozottan fontos a függvény alakja: $x \cdot x \neq x^2$"""

def square1(x):
  return x * x

square1(interval[-1, 1])

def square2(x):
  return x ** 2

square2(interval[-1, 1])

"""Sorösszegek újra, ezúttal megbízható számítással, a számított eredmény intervallumok (halmazok) teljes értékű matematikai bizonyítások a részösszeg felső és alsó korlátaira"""

s = 0
i = 1
while i <= 100000:
  s = s + 1. / (interval[i]**2)
  i = i + 1
print(s)

s = 0
i = 100000
while i > 0 :
  s = s + 1. / (interval[i]**2)
  i = i - 1
print(s)
